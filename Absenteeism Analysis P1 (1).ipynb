{
 "cells": [
  {
   "cell_type": "markdown",
   "id": "70d80834",
   "metadata": {},
   "source": [
    "## Workforce callout analysis and Employee performance Optimization\n",
    "\n",
    "This analysis seeks to uncover patterns and trends in workforce callouts, pinpoint employees with frequent callouts, and offer insights for potential improvements or interventions. By analyzing the distribution of callouts across time, job titles, shifts, and individual employees, we can better understand the factors driving callout behavior and take measures to enhance workforce management and support employee well-being."
   ]
  },
  {
   "cell_type": "markdown",
   "id": "a82bbcb0",
   "metadata": {},
   "source": [
    "### About the dataset:\n",
    "\n",
    "1. EmplID - Employee Name: Unique identifier and name of the employee.\n",
    "2. Employee - EmplID - Job Title: Employee ID, job title, and possibly additional employment details.\n",
    "3. Terminal: Location or workstation where the employee works.\n",
    "4. Workforce Callout Number: Unique identifier for each absenteeism incident.\n",
    "5. Call out Reasons: Reasons provided by employees for their absence.\n",
    "6. Related Employee: Information about any related individuals involved in the absenteeism incident.\n",
    "7. Shift: Employee's assigned work schedule or shift.\n",
    "8. Date Created: Date and time when the absenteeism incident was recorded."
   ]
  },
  {
   "cell_type": "markdown",
   "id": "db478308",
   "metadata": {},
   "source": [
    "### Importing required libraries"
   ]
  },
  {
   "cell_type": "code",
   "execution_count": 1,
   "id": "e1546908",
   "metadata": {},
   "outputs": [],
   "source": [
    "import numpy as np\n",
    "import pandas as pd\n",
    "import seaborn as sns\n",
    "import matplotlib.pyplot as plt\n",
    "import textwrap"
   ]
  },
  {
   "cell_type": "markdown",
   "id": "b6b888d5",
   "metadata": {},
   "source": [
    "### Loading the dataset and getting to know about it."
   ]
  },
  {
   "cell_type": "code",
   "execution_count": 2,
   "id": "b1aaddfd",
   "metadata": {},
   "outputs": [
    {
     "data": {
      "text/html": [
       "<div>\n",
       "<style scoped>\n",
       "    .dataframe tbody tr th:only-of-type {\n",
       "        vertical-align: middle;\n",
       "    }\n",
       "\n",
       "    .dataframe tbody tr th {\n",
       "        vertical-align: top;\n",
       "    }\n",
       "\n",
       "    .dataframe thead th {\n",
       "        text-align: right;\n",
       "    }\n",
       "</style>\n",
       "<table border=\"1\" class=\"dataframe\">\n",
       "  <thead>\n",
       "    <tr style=\"text-align: right;\">\n",
       "      <th></th>\n",
       "      <th>EmplID - Employee Name</th>\n",
       "      <th>Employee - EmplID - Job Title</th>\n",
       "      <th>Terminal</th>\n",
       "      <th>Workforce Callout Number</th>\n",
       "      <th>Call out Reasons</th>\n",
       "      <th>Related Employee</th>\n",
       "      <th>Shift</th>\n",
       "      <th>Date Created</th>\n",
       "    </tr>\n",
       "  </thead>\n",
       "  <tbody>\n",
       "    <tr>\n",
       "      <th>0</th>\n",
       "      <td>aabid</td>\n",
       "      <td>Bus Attendant</td>\n",
       "      <td>New York Ave</td>\n",
       "      <td>+(958) 694-3005</td>\n",
       "      <td>Unscheduled Sick Leave</td>\n",
       "      <td>31036</td>\n",
       "      <td>AM and PM</td>\n",
       "      <td>03-17-2024 10:46 PM</td>\n",
       "    </tr>\n",
       "    <tr>\n",
       "      <th>1</th>\n",
       "      <td>aabida</td>\n",
       "      <td>Motor Vehicle Operator</td>\n",
       "      <td>New York Ave</td>\n",
       "      <td>+(123) 958-8307</td>\n",
       "      <td>Unscheduled Sick Leave</td>\n",
       "      <td>41820</td>\n",
       "      <td>AM and PM</td>\n",
       "      <td>03-17-2024 08:28 PM</td>\n",
       "    </tr>\n",
       "    <tr>\n",
       "      <th>2</th>\n",
       "      <td>aachal</td>\n",
       "      <td>BUS ATTENDANT</td>\n",
       "      <td>New York Ave</td>\n",
       "      <td>+(289) 888-1482</td>\n",
       "      <td>Paid Family Leave</td>\n",
       "      <td>68058</td>\n",
       "      <td>AM and PM</td>\n",
       "      <td>03-17-2024 04:51 PM</td>\n",
       "    </tr>\n",
       "    <tr>\n",
       "      <th>3</th>\n",
       "      <td>aadesh</td>\n",
       "      <td>BUS ATTENDANT</td>\n",
       "      <td>New York Ave</td>\n",
       "      <td>+(953) 638-6905</td>\n",
       "      <td>Unscheduled Sick Leave</td>\n",
       "      <td>41452</td>\n",
       "      <td>PM</td>\n",
       "      <td>03-15-2024 02:35 PM</td>\n",
       "    </tr>\n",
       "    <tr>\n",
       "      <th>4</th>\n",
       "      <td>aadil</td>\n",
       "      <td>MOTOR VEHICLE OPERATOR</td>\n",
       "      <td>New York Ave</td>\n",
       "      <td>+(676) 207-3884</td>\n",
       "      <td>Unscheduled Sick Leave</td>\n",
       "      <td>127345</td>\n",
       "      <td>PM</td>\n",
       "      <td>03-15-2024 12:00 PM</td>\n",
       "    </tr>\n",
       "  </tbody>\n",
       "</table>\n",
       "</div>"
      ],
      "text/plain": [
       "  EmplID - Employee Name Employee - EmplID - Job Title      Terminal  \\\n",
       "0                  aabid                 Bus Attendant  New York Ave   \n",
       "1                 aabida        Motor Vehicle Operator  New York Ave   \n",
       "2                 aachal                 BUS ATTENDANT  New York Ave   \n",
       "3                 aadesh                 BUS ATTENDANT  New York Ave   \n",
       "4                  aadil        MOTOR VEHICLE OPERATOR  New York Ave   \n",
       "\n",
       "  Workforce Callout Number        Call out Reasons  Related Employee  \\\n",
       "0          +(958) 694-3005  Unscheduled Sick Leave             31036   \n",
       "1          +(123) 958-8307  Unscheduled Sick Leave             41820   \n",
       "2          +(289) 888-1482       Paid Family Leave             68058   \n",
       "3          +(953) 638-6905  Unscheduled Sick Leave             41452   \n",
       "4          +(676) 207-3884  Unscheduled Sick Leave            127345   \n",
       "\n",
       "       Shift         Date Created  \n",
       "0  AM and PM  03-17-2024 10:46 PM  \n",
       "1  AM and PM  03-17-2024 08:28 PM  \n",
       "2  AM and PM  03-17-2024 04:51 PM  \n",
       "3         PM  03-15-2024 02:35 PM  \n",
       "4         PM  03-15-2024 12:00 PM  "
      ]
     },
     "execution_count": 2,
     "metadata": {},
     "output_type": "execute_result"
    }
   ],
   "source": [
    "df_raw = pd.read_csv(r\"C:\\Users\\aniru\\OneDrive\\Documents\\SRC\\SRC 5\\doctored_data.csv\")\n",
    "df_raw.head()"
   ]
  },
  {
   "cell_type": "code",
   "execution_count": 3,
   "id": "d1caaae6",
   "metadata": {},
   "outputs": [
    {
     "data": {
      "text/plain": [
       "(6288, 8)"
      ]
     },
     "execution_count": 3,
     "metadata": {},
     "output_type": "execute_result"
    }
   ],
   "source": [
    "df_raw.shape"
   ]
  },
  {
   "cell_type": "code",
   "execution_count": 4,
   "id": "0e9c5622",
   "metadata": {},
   "outputs": [
    {
     "name": "stdout",
     "output_type": "stream",
     "text": [
      "<class 'pandas.core.frame.DataFrame'>\n",
      "RangeIndex: 6288 entries, 0 to 6287\n",
      "Data columns (total 8 columns):\n",
      " #   Column                         Non-Null Count  Dtype \n",
      "---  ------                         --------------  ----- \n",
      " 0   EmplID - Employee Name         6288 non-null   object\n",
      " 1   Employee - EmplID - Job Title  6288 non-null   object\n",
      " 2   Terminal                       6288 non-null   object\n",
      " 3   Workforce Callout Number       6288 non-null   object\n",
      " 4   Call out Reasons               6288 non-null   object\n",
      " 5   Related Employee               6288 non-null   int64 \n",
      " 6   Shift                          6288 non-null   object\n",
      " 7   Date Created                   6288 non-null   object\n",
      "dtypes: int64(1), object(7)\n",
      "memory usage: 393.1+ KB\n"
     ]
    }
   ],
   "source": [
    "df_raw.info()"
   ]
  },
  {
   "cell_type": "code",
   "execution_count": 5,
   "id": "a1002383",
   "metadata": {},
   "outputs": [
    {
     "data": {
      "text/plain": [
       "EmplID - Employee Name           0\n",
       "Employee - EmplID - Job Title    0\n",
       "Terminal                         0\n",
       "Workforce Callout Number         0\n",
       "Call out Reasons                 0\n",
       "Related Employee                 0\n",
       "Shift                            0\n",
       "Date Created                     0\n",
       "dtype: int64"
      ]
     },
     "execution_count": 5,
     "metadata": {},
     "output_type": "execute_result"
    }
   ],
   "source": [
    "df_raw.isnull().sum()"
   ]
  },
  {
   "cell_type": "code",
   "execution_count": 6,
   "id": "dd84ff17",
   "metadata": {},
   "outputs": [
    {
     "data": {
      "text/plain": [
       "6169"
      ]
     },
     "execution_count": 6,
     "metadata": {},
     "output_type": "execute_result"
    }
   ],
   "source": [
    "df_raw['EmplID - Employee Name'].duplicated().sum()"
   ]
  },
  {
   "cell_type": "code",
   "execution_count": 7,
   "id": "ad5daa6c",
   "metadata": {
    "scrolled": true
   },
   "outputs": [
    {
     "data": {
      "text/plain": [
       "EmplID - Employee Name           0.0\n",
       "Employee - EmplID - Job Title    0.0\n",
       "Terminal                         0.0\n",
       "Workforce Callout Number         0.0\n",
       "Call out Reasons                 0.0\n",
       "Related Employee                 0.0\n",
       "Shift                            0.0\n",
       "Date Created                     0.0\n",
       "dtype: float64"
      ]
     },
     "execution_count": 7,
     "metadata": {},
     "output_type": "execute_result"
    }
   ],
   "source": [
    "#Calculating the percentage of missing values for each column\n",
    "missing_percentage =  (df_raw.isnull().sum()/len(df_raw))*100\n",
    "missing_percentage"
   ]
  },
  {
   "cell_type": "code",
   "execution_count": 8,
   "id": "fa0da9d3",
   "metadata": {},
   "outputs": [
    {
     "data": {
      "text/plain": [
       "array(['Unscheduled Sick Leave', 'Paid Family Leave', 'Late to Work',\n",
       "       'FMLA', 'Annual Leave - Unscheduled',\n",
       "       'Unscheduled sick leave for 3 or more days'], dtype=object)"
      ]
     },
     "execution_count": 8,
     "metadata": {},
     "output_type": "execute_result"
    }
   ],
   "source": [
    "df_raw['Call out Reasons'].unique()"
   ]
  },
  {
   "cell_type": "markdown",
   "id": "6584f467",
   "metadata": {},
   "source": [
    "### Data Pre-processing"
   ]
  },
  {
   "cell_type": "markdown",
   "id": "1e897798",
   "metadata": {},
   "source": [
    "#### Primary pre-processing tasks necesary for this dataset are:\n",
    "\n",
    "* Convert 'Date Created' Column to datetime format\n",
    "* Consider only relevant callout reasons for analysis(drop irrelevant ones)\n",
    "* handle duplicate values\n",
    "* Handling missing values in the 'Workforce Callout Number' column"
   ]
  },
  {
   "cell_type": "code",
   "execution_count": 9,
   "id": "3b0a1958",
   "metadata": {},
   "outputs": [],
   "source": [
    "df_raw.drop_duplicates(inplace = True)"
   ]
  },
  {
   "cell_type": "code",
   "execution_count": 13,
   "id": "5f9852a9",
   "metadata": {},
   "outputs": [],
   "source": [
    "# converting 'Date Created' column to date-time format\n",
    "\n",
    "df_raw['Date Created'] = pd.to_datetime(df_raw['Date Created'], format = \"%d/%m/%Y\")\n",
    "# extracting the month and year features from Date Created column\n",
    "\n",
    "df_raw['Year'] = df_raw['Date Created'].dt.year\n",
    "df_raw['Month'] = df_raw['Date Created'].dt.month"
   ]
  },
  {
   "cell_type": "code",
   "execution_count": 14,
   "id": "fdef7c78",
   "metadata": {},
   "outputs": [
    {
     "data": {
      "text/plain": [
       "array(['Unscheduled Sick Leave', 'Annual Leave - Unscheduled',\n",
       "       'Unscheduled sick leave for 3 or more days'], dtype=object)"
      ]
     },
     "execution_count": 14,
     "metadata": {},
     "output_type": "execute_result"
    }
   ],
   "source": [
    "# removing irrelevant callout reasons\n",
    "relevant_callout_reasons = [\n",
    "    'Unscheduled Sick Leave',\n",
    "    'Annual Leave - Unscheduled',\n",
    "    'Unscheduled sick leave for 3 or more days'\n",
    "]\n",
    "\n",
    "df = df_raw[df_raw['Call out Reasons'].isin(relevant_callout_reasons)]\n",
    "df['Call out Reasons'].unique()"
   ]
  },
  {
   "cell_type": "code",
   "execution_count": 15,
   "id": "2863e9ef",
   "metadata": {
    "scrolled": true
   },
   "outputs": [
    {
     "name": "stdout",
     "output_type": "stream",
     "text": [
      "<class 'pandas.core.frame.DataFrame'>\n",
      "Index: 5195 entries, 0 to 6287\n",
      "Data columns (total 10 columns):\n",
      " #   Column                         Non-Null Count  Dtype         \n",
      "---  ------                         --------------  -----         \n",
      " 0   EmplID - Employee Name         5195 non-null   object        \n",
      " 1   Employee - EmplID - Job Title  5195 non-null   object        \n",
      " 2   Terminal                       5195 non-null   object        \n",
      " 3   Workforce Callout Number       5195 non-null   object        \n",
      " 4   Call out Reasons               5195 non-null   object        \n",
      " 5   Related Employee               5195 non-null   int64         \n",
      " 6   Shift                          5195 non-null   object        \n",
      " 7   Date Created                   5195 non-null   datetime64[ns]\n",
      " 8   Year                           5195 non-null   int32         \n",
      " 9   Month                          5195 non-null   int32         \n",
      "dtypes: datetime64[ns](1), int32(2), int64(1), object(6)\n",
      "memory usage: 405.9+ KB\n"
     ]
    }
   ],
   "source": [
    "df.info()"
   ]
  },
  {
   "cell_type": "code",
   "execution_count": 16,
   "id": "6ed1e5d8",
   "metadata": {},
   "outputs": [],
   "source": [
    "'''\n",
    "handling the missing values in 'Workforce Callout Number' column\n",
    "although there are only 5 missing values and removing it won't affect our analysis significantly\n",
    "but since Workforce Callout Number is irrelevant to our outcomes of analysis, we can add dummy values to for those\n",
    "5 missing rows which will not affect our accuracy\n",
    "'''\n",
    "\n",
    "# creating a function which will replace missing values in a dataframe with random categorical/numerical values\n",
    "\n",
    "import pandas as pd\n",
    "import numpy as np\n",
    "\n",
    "def replace_missing_values_with_random_or_mode(df, col, strategy='random', random_state=None):\n",
    "    \"\"\"\n",
    "    Replace missing values in a Pandas DataFrame with either random values or the mode of the column.\n",
    "\n",
    "    Parameters:\n",
    "    - df (pd.DataFrame): The input DataFrame\n",
    "    - strategy (str, optional): The strategy to use for replacing missing values. Can be either 'random' or 'mode'. Default is 'random'\n",
    "    - random_state (int, optional): The seed for the random number generator. Only used if strategy is 'random'. Default is None\n",
    "\n",
    "    Returns:\n",
    "    - pd.DataFrame: The modified DataFrame with missing values replaced\n",
    "    \"\"\"\n",
    "    if strategy not in ['random', 'mode']:\n",
    "        raise ValueError(\"Invalid strategy. Must be either 'random' or 'mode'\")\n",
    "\n",
    "    np.random.seed(random_state)\n",
    "    if df[col].dtype == 'object':\n",
    "        if strategy == 'random':\n",
    "            # For categorical columns, replace missing values with a random value from the existing categories\n",
    "            df.loc[:,col] = df.loc[:,col].fillna(pd.Series(np.random.choice(df.loc[:,col].dropna().unique(), size=len(df.loc[:,col].isnull()))))\n",
    "        else:\n",
    "            # For categorical columns, replace missing values with the mode\n",
    "            mode_val = df.loc[:,col].mode().iloc[0]\n",
    "            df.loc[:,col] = df.loc[:,col].fillna(mode_val)\n",
    "    elif df.loc[:,col].dtype == 'int64' or df.loc[:,col].dtype == 'float64':\n",
    "        if strategy == 'random':\n",
    "            # For numerical columns, replace missing values with a random value within the range of the existing values\n",
    "            min_val = df.loc[:,col].min()\n",
    "            max_val = df.loc[:,col].max()\n",
    "            df.loc[:,col] = df.loc[:,col].fillna(pd.Series(np.random.uniform(min_val, max_val, size=len(df[col].isnull()))))\n",
    "        else:\n",
    "            # For numerical columns, replace missing values with the mean\n",
    "            mean_val = df.loc[:,col].mean()\n",
    "            df.loc[:,col] = df.loc[:,col].fillna(mean_val)\n",
    "    else:\n",
    "        raise ValueError(f\"Unsupported data type for column {col}: {df[col].dtype}\")\n",
    "    return df"
   ]
  },
  {
   "cell_type": "code",
   "execution_count": 17,
   "id": "e689a117",
   "metadata": {},
   "outputs": [],
   "source": [
    "df = replace_missing_values_with_random_or_mode(df, 'Workforce Callout Number', 'mode', 42)"
   ]
  },
  {
   "cell_type": "code",
   "execution_count": 18,
   "id": "5411af05",
   "metadata": {},
   "outputs": [
    {
     "data": {
      "text/plain": [
       "EmplID - Employee Name           0\n",
       "Employee - EmplID - Job Title    0\n",
       "Terminal                         0\n",
       "Workforce Callout Number         0\n",
       "Call out Reasons                 0\n",
       "Related Employee                 0\n",
       "Shift                            0\n",
       "Date Created                     0\n",
       "Year                             0\n",
       "Month                            0\n",
       "dtype: int64"
      ]
     },
     "execution_count": 18,
     "metadata": {},
     "output_type": "execute_result"
    }
   ],
   "source": [
    "df.isnull().sum()"
   ]
  },
  {
   "cell_type": "code",
   "execution_count": 19,
   "id": "5b971a43",
   "metadata": {},
   "outputs": [
    {
     "data": {
      "text/plain": [
       "0"
      ]
     },
     "execution_count": 19,
     "metadata": {},
     "output_type": "execute_result"
    }
   ],
   "source": [
    "df.duplicated().sum()"
   ]
  },
  {
   "cell_type": "code",
   "execution_count": 20,
   "id": "2a3e495b",
   "metadata": {},
   "outputs": [
    {
     "name": "stdout",
     "output_type": "stream",
     "text": [
      "['bus attendant' 'motor vehicle operator']\n"
     ]
    }
   ],
   "source": [
    "# Convert 'Employee - EmplID - Job Title' column to lowercase and remove leading/trailing whitespace\n",
    "df.loc[:,'Employee - EmplID - Job Title'] = df.loc[:,'Employee - EmplID - Job Title'].str.lower().str.strip()\n",
    "\n",
    "# Display unique values to identify inconsistencies\n",
    "print(df.loc[:,'Employee - EmplID - Job Title'].unique())"
   ]
  },
  {
   "cell_type": "markdown",
   "id": "d4d1b270",
   "metadata": {},
   "source": [
    "### Univariate Analysis"
   ]
  },
  {
   "cell_type": "markdown",
   "id": "b2ea7fd4",
   "metadata": {},
   "source": [
    "#### Job Titile Distribution"
   ]
  },
  {
   "cell_type": "code",
   "execution_count": 21,
   "id": "70012814",
   "metadata": {},
   "outputs": [
    {
     "data": {
      "text/plain": [
       "Employee - EmplID - Job Title\n",
       "bus attendant             3416\n",
       "motor vehicle operator    1779\n",
       "Name: count, dtype: int64"
      ]
     },
     "execution_count": 21,
     "metadata": {},
     "output_type": "execute_result"
    }
   ],
   "source": [
    "# getting the distribution of 'Employee - EmplID - Job Title' column using value_counts()\n",
    "df['Employee - EmplID - Job Title'].value_counts()"
   ]
  },
  {
   "cell_type": "code",
   "execution_count": 22,
   "id": "44e67691",
   "metadata": {},
   "outputs": [
    {
     "data": {
      "text/plain": [
       "<Axes: xlabel='Employee - EmplID - Job Title', ylabel='Count'>"
      ]
     },
     "execution_count": 22,
     "metadata": {},
     "output_type": "execute_result"
    },
    {
     "data": {
      "image/png": "[encoded data removed]",
      "text/plain": [
       "<Figure size 640x480 with 1 Axes>"
      ]
     },
     "metadata": {},
     "output_type": "display_data"
    }
   ],
   "source": [
    "sns.histplot(df['Employee - EmplID - Job Title'], kde = False)"
   ]
  },
  {
   "cell_type": "markdown",
   "id": "13536f4f",
   "metadata": {},
   "source": [
    "#### Insight :\n",
    "\n",
    "There is a wide desparity between the number of 'bus attendant' and 'motor vehicle operator'.\n",
    "Bus attendants take upto twice the size of the number of Motor Vehicle Operators."
   ]
  },
  {
   "cell_type": "markdown",
   "id": "691d0a0c",
   "metadata": {},
   "source": [
    "#### Call-out reason Analysis"
   ]
  },
  {
   "cell_type": "code",
   "execution_count": 23,
   "id": "63c593de",
   "metadata": {},
   "outputs": [
    {
     "data": {
      "text/plain": [
       "Call out Reasons\n",
       "Unscheduled Sick Leave                       4123\n",
       "Annual Leave - Unscheduled                    827\n",
       "Unscheduled sick leave for 3 or more days     245\n",
       "Name: count, dtype: int64"
      ]
     },
     "execution_count": 23,
     "metadata": {},
     "output_type": "execute_result"
    }
   ],
   "source": [
    "# getting the distribution of 'Call out reasons' column using value_counts()\n",
    "\n",
    "df['Call out Reasons'].value_counts()"
   ]
  },
  {
   "cell_type": "code",
   "execution_count": 24,
   "id": "703e75f8",
   "metadata": {},
   "outputs": [
    {
     "data": {
      "image/png": "[encoded data removed]",
      "text/plain": [
       "<Figure size 640x480 with 1 Axes>"
      ]
     },
     "metadata": {},
     "output_type": "display_data"
    }
   ],
   "source": [
    "df['Call out Reasons'].value_counts().plot(kind=\"bar\")\n",
    "\n",
    "# Set the title and labels for the chart\n",
    "plt.title(\"Call out Reasons Distribution\")\n",
    "plt.xlabel(\"Call out Reason Category\")\n",
    "plt.ylabel(\"Call out Reason Category Count\")\n",
    "\n",
    "# Add a grid to the chart for clarity\n",
    "plt.grid(axis='y')"
   ]
  },
  {
   "cell_type": "markdown",
   "id": "2ae7a2c1",
   "metadata": {},
   "source": [
    "#### Insight:\n",
    "\n",
    "Unscheduled Sick Leave has a significantly higher count compared to other reasons."
   ]
  },
  {
   "cell_type": "markdown",
   "id": "2436462d",
   "metadata": {},
   "source": [
    "#### Shift Distribution"
   ]
  },
  {
   "cell_type": "code",
   "execution_count": 25,
   "id": "b2c68490",
   "metadata": {},
   "outputs": [
    {
     "data": {
      "text/plain": [
       "Shift\n",
       "AM and PM    3023\n",
       "PM           1480\n",
       "AM            692\n",
       "Name: count, dtype: int64"
      ]
     },
     "execution_count": 25,
     "metadata": {},
     "output_type": "execute_result"
    }
   ],
   "source": [
    "# getting teh distribution of different work shifts in the 'Shift' column using value_counts()\n",
    "df['Shift'].value_counts()"
   ]
  },
  {
   "cell_type": "code",
   "execution_count": 26,
   "id": "77d6e294",
   "metadata": {},
   "outputs": [
    {
     "data": {
      "text/plain": [
       "Text(0, 0.5, 'Number of Employees')"
      ]
     },
     "execution_count": 26,
     "metadata": {},
     "output_type": "execute_result"
    },
    {
     "data": {
      "image/png": "[encoded data removed]",
      "text/plain": [
       "<Figure size 640x480 with 1 Axes>"
      ]
     },
     "metadata": {},
     "output_type": "display_data"
    }
   ],
   "source": [
    "df['Shift'].value_counts().plot(kind=\"bar\")\n",
    "\n",
    "# Set the title and labels for the chart\n",
    "plt.title(\"Shift Distribution\")\n",
    "plt.xlabel(\"Shift\")\n",
    "plt.ylabel(\"Number of Employees\")"
   ]
  },
  {
   "cell_type": "markdown",
   "id": "1cf714b7",
   "metadata": {},
   "source": [
    "#### Insight\n",
    "\n",
    "The progressive count amongst each category is almost twice, i.e, twice the number of AM workers in PM workers and twice the number of PM workers in AM and PM workers."
   ]
  },
  {
   "cell_type": "markdown",
   "id": "41a44089",
   "metadata": {},
   "source": [
    "### Bi-Variate Analysis"
   ]
  },
  {
   "cell_type": "markdown",
   "id": "7dbb567a",
   "metadata": {},
   "source": [
    "### Call-out Frequency over Time"
   ]
  },
  {
   "cell_type": "code",
   "execution_count": 27,
   "id": "22c1885b",
   "metadata": {},
   "outputs": [
    {
     "name": "stdout",
     "output_type": "stream",
     "text": [
      "            Workforce Callout Number\n",
      "Year Month                          \n",
      "2022 9                            30\n",
      "     10                          162\n",
      "     11                          185\n",
      "     12                          203\n",
      "2023 1                           248\n",
      "     2                           220\n",
      "     3                           237\n",
      "     4                           217\n",
      "     5                           284\n",
      "     6                           339\n",
      "     7                           324\n",
      "     8                           307\n",
      "     9                           363\n",
      "     10                          347\n",
      "     11                          329\n",
      "     12                          371\n",
      "2024 1                           475\n",
      "     2                           370\n",
      "     3                           184\n"
     ]
    }
   ],
   "source": [
    "# counting the number of callouts according to different months and year\n",
    "monthly_callouts = pd.DataFrame(df.groupby(['Year', 'Month'])['Workforce Callout Number'].count()).sort_values(by = ['Year', 'Month'])\n",
    "\n",
    "# Display the monthly call-out counts\n",
    "print(monthly_callouts)"
   ]
  },
  {
   "cell_type": "code",
   "execution_count": 28,
   "id": "0c3883ea",
   "metadata": {},
   "outputs": [
    {
     "data": {
      "image/png": "[encoded data removed]",
      "text/plain": [
       "<Figure size 640x480 with 1 Axes>"
      ]
     },
     "metadata": {},
     "output_type": "display_data"
    }
   ],
   "source": [
    "# plotting the monthly call-out counts\n",
    "monthly_callouts.plot(kind='bar')\n",
    "\n",
    "# Set the title and labels for the chart\n",
    "plt.title(\"Monthly Call-Out Counts\")\n",
    "plt.xlabel(\"Year and Month\")\n",
    "plt.ylabel(\"Number of Call-Outs\")\n",
    "\n",
    "\n",
    "\n",
    "# displaying the chart\n",
    "plt.show()\n"
   ]
  },
  {
   "cell_type": "markdown",
   "id": "4c52a390",
   "metadata": {},
   "source": [
    "#### Inference:\n",
    "\n",
    "* The visualization reveals a varying pattern of callouts from the period of Sept'22 to Jan'24\n",
    "\n",
    "#### Trend:\n",
    "\n",
    "* There is a growing trend of monthly callout frequency from Sept'22 to Jan'24.\n",
    "* The spikes in the chart can be a result of seasonal behavour of employees observed during fall of each year.\n",
    "* There is a significant rise in frequency from Sept'22 to Oct'22 and the reason for that can be increasing in workforce.\n",
    "* The highest number of callouts is in the period of Jan'24 might be because of polarity in country's political policies or weather break-outs.\n",
    "\n",
    "#### Causes and suggestions:\n",
    "* Absenteeism due to seasonal factors can be handled by introducing flexible work arrangements specifically designed for bus attendants and motor vehicle operators to accommodate their schedules and reduce absenteeism during peak periods.\n",
    "* As 'Unplanned sick leaves' is one of the most primary reasons behind callouts, implementing tailored wellness initiatives targeting the unique needs of bus attendants and motor vehicle operators to improve their health and well-being can help reduce the number."
   ]
  },
  {
   "cell_type": "markdown",
   "id": "95addd0c",
   "metadata": {},
   "source": [
    "### Related Employee Analysis"
   ]
  },
  {
   "cell_type": "code",
   "execution_count": 29,
   "id": "4d595843",
   "metadata": {},
   "outputs": [
    {
     "data": {
      "text/plain": [
       "Related Employee\n",
       "41820     189\n",
       "111881    176\n",
       "101589    153\n",
       "42232     125\n",
       "42381     121\n",
       "123310    118\n",
       "108814    115\n",
       "112095    114\n",
       "103558    114\n",
       "42219     103\n",
       "Name: Workforce Callout Number, dtype: int64"
      ]
     },
     "execution_count": 29,
     "metadata": {},
     "output_type": "execute_result"
    }
   ],
   "source": [
    "related_emp_callout_count = df.groupby('Related Employee')['Workforce Callout Number'].count().sort_values(ascending = False)\n",
    "related_emp_callout_count.head(10)"
   ]
  },
  {
   "cell_type": "code",
   "execution_count": 30,
   "id": "8ab3e645",
   "metadata": {},
   "outputs": [
    {
     "data": {
      "image/png": "[encoded data removed]",
      "text/plain": [
       "<Figure size 1000x600 with 1 Axes>"
      ]
     },
     "metadata": {},
     "output_type": "display_data"
    }
   ],
   "source": [
    "plt.figure(figsize=(10, 6))\n",
    "related_emp_callout_count.head(10).plot(kind='bar')\n",
    "plt.title('Related Employee Impact')\n",
    "plt.xlabel('Related Employee')\n",
    "plt.ylabel('Number of Call-outs')\n",
    "plt.xticks(rotation=45)\n",
    "plt.grid(axis='y')\n",
    "plt.show()"
   ]
  },
  {
   "cell_type": "markdown",
   "id": "4050e329",
   "metadata": {},
   "source": [
    "#### Inference:\n",
    "As the above bar chart represents the count of callouts for certain employees, it can be inferenced that the number of callouts made by the employees is in directly proportional when another related employee is making a call-out.\n",
    "It can be a useful way to understand how absenses can impact the whole team's performance.\n",
    "\n",
    "#### Causes and Suggestions:\n",
    "\n",
    "* Collaborative Work Environment:\n",
    "Employees can be cosely connected to other employees in their work, leading to subsequent involvement in eachother's absenteeism.\n",
    "\n",
    "A detailed analysis can be carried out to understand the underlying reasons for the high involvement of related employees in absenteeism incidents.\n",
    "\n",
    "* Team Dynamics:\n",
    "Certain teams might be experiencing higher absenteeism rates potentially due to shared responsibilities or work conditions\n",
    "\n",
    "Measures can be taken to improve team-work environments and nurture positive work relationships among employees.\n",
    "\n",
    "* Heirarchial relationships:\n",
    "Employees with supervisory roles or responsibilities may be more likely tobe involved with absenteeism causes of their sub-ordinates.\n",
    "\n",
    "Providing training and support to supervisors and managers to effectively manage absenteeism and promote employee engagement and attendance can help reduce the above causes for absenteeism."
   ]
  },
  {
   "cell_type": "markdown",
   "id": "d388c917",
   "metadata": {},
   "source": [
    "### Shift-wise Absenteeism"
   ]
  },
  {
   "cell_type": "code",
   "execution_count": 31,
   "id": "8339a5bb",
   "metadata": {},
   "outputs": [
    {
     "data": {
      "text/plain": [
       "Shift\n",
       "AM and PM    3023\n",
       "PM           1480\n",
       "AM            692\n",
       "Name: Workforce Callout Number, dtype: int64"
      ]
     },
     "execution_count": 31,
     "metadata": {},
     "output_type": "execute_result"
    }
   ],
   "source": [
    "# Grouping by shifts and counting the number of callouts for each shift\n",
    "\n",
    "shift_absenteeism = df.groupby('Shift')['Workforce Callout Number'].count().sort_values(ascending = False)\n",
    "shift_absenteeism"
   ]
  },
  {
   "cell_type": "code",
   "execution_count": 32,
   "id": "a1e6341a",
   "metadata": {},
   "outputs": [
    {
     "data": {
      "image/png": "[encoded data removed]",
      "text/plain": [
       "<Figure size 700x400 with 1 Axes>"
      ]
     },
     "metadata": {},
     "output_type": "display_data"
    }
   ],
   "source": [
    "plt.figure(figsize = (7,4))\n",
    "shift_absenteeism.plot(kind = 'bar')\n",
    "plt.title('Shift wise absenteeism')\n",
    "plt.xlabel('Shift')\n",
    "plt.ylabel('Call-out Count')\n",
    "plt.xticks(rotation = 45)\n",
    "plt.grid(axis = 'y')\n",
    "plt.show()"
   ]
  },
  {
   "cell_type": "markdown",
   "id": "66490446",
   "metadata": {},
   "source": [
    "#### Inference:\n",
    "The above chart shows the count of call-outs with respect to different shift preferences.\n",
    "It can be noticed that the count of call-outs made doubles up with different types of shifts preferred.\n",
    "\n",
    "#### Causes and Suggestions:\n",
    "\n",
    "* The combined 'AM and PM' shift has the highest count of call-outs made which suggests that employees assigned to both morning and evening shift working times are more prone to absenteeism than the rest.\n",
    "* The count of call-outs is almost halved for the employees working in PM shift which is still a significant number.\n",
    "* The count of call-outs made for the employees working in the morning shift is the least of all shifts and thus they are less prone to absenteeism.\n",
    "\n",
    "Suggestions: \n",
    "\n",
    "* Further Research: Conduct a detailed analysis to identify underlying factors contributing to the discrepancies in absenteeism rates across different shifts. Factors such as workload distribution, shift scheduling, and employee preferences should be explored to better understand the reasons behind the observed patterns.\n",
    "\n",
    "* Targetted Interventions:Implement targeted interventions aimed at reducing absenteeism among employees assigned to the AM and PM shifts, as they exhibit the highest absenteeism rates. This may involve providing additional support, addressing workload issues, or offering incentives to improve attendance.\n",
    "\n",
    "* Shift planning optimizations: Review and optimize shift planning processes to ensure a balanced distribution of workload and minimize potential stressors that could contribute to absenteeism. Flexibility in shift scheduling and accommodating employee preferences may also help in improving attendance rates."
   ]
  },
  {
   "cell_type": "markdown",
   "id": "d2a5a7b8",
   "metadata": {},
   "source": [
    "### Top employees' Call-outs"
   ]
  },
  {
   "cell_type": "code",
   "execution_count": 33,
   "id": "34f05366",
   "metadata": {},
   "outputs": [
    {
     "data": {
      "text/html": [
       "<div>\n",
       "<style scoped>\n",
       "    .dataframe tbody tr th:only-of-type {\n",
       "        vertical-align: middle;\n",
       "    }\n",
       "\n",
       "    .dataframe tbody tr th {\n",
       "        vertical-align: top;\n",
       "    }\n",
       "\n",
       "    .dataframe thead th {\n",
       "        text-align: right;\n",
       "    }\n",
       "</style>\n",
       "<table border=\"1\" class=\"dataframe\">\n",
       "  <thead>\n",
       "    <tr style=\"text-align: right;\">\n",
       "      <th></th>\n",
       "      <th>EmpID</th>\n",
       "      <th>Count</th>\n",
       "    </tr>\n",
       "  </thead>\n",
       "  <tbody>\n",
       "    <tr>\n",
       "      <th>1</th>\n",
       "      <td>aabida</td>\n",
       "      <td>189</td>\n",
       "    </tr>\n",
       "    <tr>\n",
       "      <th>24</th>\n",
       "      <td>aamil</td>\n",
       "      <td>176</td>\n",
       "    </tr>\n",
       "    <tr>\n",
       "      <th>90</th>\n",
       "      <td>abhash</td>\n",
       "      <td>153</td>\n",
       "    </tr>\n",
       "    <tr>\n",
       "      <th>32</th>\n",
       "      <td>aanamika</td>\n",
       "      <td>125</td>\n",
       "    </tr>\n",
       "    <tr>\n",
       "      <th>31</th>\n",
       "      <td>aanad</td>\n",
       "      <td>121</td>\n",
       "    </tr>\n",
       "    <tr>\n",
       "      <th>18</th>\n",
       "      <td>aakas</td>\n",
       "      <td>118</td>\n",
       "    </tr>\n",
       "    <tr>\n",
       "      <th>37</th>\n",
       "      <td>aansi</td>\n",
       "      <td>115</td>\n",
       "    </tr>\n",
       "    <tr>\n",
       "      <th>34</th>\n",
       "      <td>aanchal</td>\n",
       "      <td>114</td>\n",
       "    </tr>\n",
       "    <tr>\n",
       "      <th>99</th>\n",
       "      <td>abhimanyu</td>\n",
       "      <td>114</td>\n",
       "    </tr>\n",
       "    <tr>\n",
       "      <th>35</th>\n",
       "      <td>aanik</td>\n",
       "      <td>103</td>\n",
       "    </tr>\n",
       "  </tbody>\n",
       "</table>\n",
       "</div>"
      ],
      "text/plain": [
       "        EmpID  Count\n",
       "1      aabida    189\n",
       "24      aamil    176\n",
       "90     abhash    153\n",
       "32   aanamika    125\n",
       "31      aanad    121\n",
       "18      aakas    118\n",
       "37      aansi    115\n",
       "34    aanchal    114\n",
       "99  abhimanyu    114\n",
       "35      aanik    103"
      ]
     },
     "execution_count": 33,
     "metadata": {},
     "output_type": "execute_result"
    }
   ],
   "source": [
    "# grouping by the employee_id to get the individual count of call-outs for each employee\n",
    "emp_count = df.groupby('EmplID - Employee Name')['Workforce Callout Number'].count().reset_index()\n",
    "emp_count = emp_count.sort_values(by = 'Workforce Callout Number', ascending = False)\n",
    "emp_count.rename(columns = {'EmplID - Employee Name':'EmpID', 'Workforce Callout Number':'Count'}, inplace = True)\n",
    "top_10_employees_absenteeism = emp_count.head(10)\n",
    "emp_count.head(10)"
   ]
  },
  {
   "cell_type": "code",
   "execution_count": 34,
   "id": "f17eb922",
   "metadata": {},
   "outputs": [
    {
     "data": {
      "image/png": "[encoded data removed]",
      "text/plain": [
       "<Figure size 640x480 with 1 Axes>"
      ]
     },
     "metadata": {},
     "output_type": "display_data"
    }
   ],
   "source": [
    "sns.barplot(x='EmpID', y='Count', data=top_10_employees_absenteeism, color = 'teal')\n",
    "plt.xticks(rotation = 90)\n",
    "# Display the plot\n",
    "plt.show()"
   ]
  },
  {
   "cell_type": "markdown",
   "id": "92c7621e",
   "metadata": {},
   "source": [
    "#### Inference:\n",
    "The above chart highlights the employee IDs of top 10 employees with highest call-out count.\n",
    "Employees like 'Poston, Britannia', 'Johnson, Rolisha A' & 'Thompson, Tiffany D' are the top 3 absentees and their count of call-outs are significantly higher than others in the list which suggests that they might be facing chronic reasons pf absenteeism.\n",
    "\n",
    "#### Causes and suggestions:\n",
    "\n",
    "* Employees like Britannia Poston and Rolisha A Johnson might be facing any kind of ongoing absenteeism issues, possibly due to health concerns, personal circumstances or job related factors.\n",
    "* Employees mightbe facing any kind of job related stress due to worload pressure, job responsibilities or workplace environment.\n",
    "* Analyzing call-out counts over different times can reveal trend patterns such as seasonal patterns or other. Understanding these patterns will help in addressing the issue and coming up with better solutions.\n",
    "\n",
    "Suggestions:\n",
    "* Supportive Interventions:\n",
    "        Implement targeted interventions to address the specific needs of employees with high call-out counts. This could include providing counseling, flexible work arrangements, or wellness programs to support employee well-being.\n",
    "* Communication and Engagement:\n",
    "    Foster open communication channels and promote employee engagement to address underlying issues contributing to absenteeism. Regular feedback sessions and employee surveys can help identify areas for improvement.\n",
    "* Performance Management:\n",
    "    Review performance management practices to ensure fair and consistent treatment of employees. Providing recognition for attendance and addressing performance issues promptly can help mitigate absenteeism.\n",
    "* Workplace Policies:\n",
    "    Review and update workplace policies and procedures to ensure they support employee well-being and attendance. This could include policies related to sick leave, remote work, and flexible scheduling."
   ]
  },
  {
   "cell_type": "markdown",
   "id": "adaf0662",
   "metadata": {},
   "source": [
    "### Overall Insight and Recommendation:-\n",
    "#### Insights:\n",
    "1. Unscheduled sick leave is predominant, indicating a need for health-related support programs and absenteeism management strategies.\n",
    "\n",
    "2. There's a substantial difference between Bus Attendants and Motor Vehicle Operators, warranting a review of workload distribution and job satisfaction among these roles.\n",
    "\n",
    "3. AM and PM mixed shift preference signals potential scheduling issues or workload distribution imbalances, requiring optimization and flexibility in shift planning.\n",
    "\n",
    "4. Employees like Britannia Poston, Rolisha A Johnson, and Tiffany D Thompson exhibit high absenteeism rates, suggesting the need for personalized support interventions and performance management strategies.\n",
    "\n",
    "5. Identifying root causes behind high involvement in absenteeism incidents and fostering a supportive work environment can mitigate absenteeism rates among related employees.\n",
    "\n",
    "6. Seasonal and monthly fluctuations in absenteeism call for tailored wellness programs, flexible policies, and performance monitoring to address varying workload and employee well-being concerns.\n",
    "\n",
    "7. Further investigation into factors contributing to different shift absenteeism rates is necessary, with targeted interventions focused on optimizing shift planning and addressing potential stressors.\n",
    "\n",
    "#### Recommendations:\n",
    "\n",
    "1. Implement tailored wellness programs to support employee health and well-being, addressing prevalent absence reasons like unscheduled sick leave.\n",
    "\n",
    "2. Review workload distribution and job satisfaction among Bus Attendants and Motor Vehicle Operators to ensure equitable treatment and promote engagement.\n",
    "\n",
    "3. Optimize shift planning processes to address disparities in absenteeism rates across different shifts, ensuring flexibility and balance in scheduling.\n",
    "\n",
    "4. Provide personalized support and performance management interventions for employees with high absenteeism rates, addressing underlying issues and promoting accountability.\n",
    "\n",
    "5. Foster a supportive work environment and open communication channels to mitigate absenteeism's impact, emphasizing teamwork and collaboration.\n",
    "\n",
    "6. Continuously monitor absenteeism trends and adjust strategies accordingly to maintain workforce productivity and well-being."
   ]
  }
 ],
 "metadata": {
  "kernelspec": {
   "display_name": "Python 3 (ipykernel)",
   "language": "python",
   "name": "python3"
  },
  "language_info": {
   "codemirror_mode": {
    "name": "ipython",
    "version": 3
   },
   "file_extension": ".py",
   "mimetype": "text/x-python",
   "name": "python",
   "nbconvert_exporter": "python",
   "pygments_lexer": "ipython3",
   "version": "3.11.5"
  }
 },
 "nbformat": 4,
 "nbformat_minor": 5
}
